{
 "cells": [
  {
   "cell_type": "code",
   "execution_count": 2,
   "metadata": {},
   "outputs": [],
   "source": [
    "import pandas as pd\n",
    "import numpy as np\n",
    "import matplotlib.pyplot as plt\n",
    "from matplotlib.pyplot import figure\n",
    "import seaborn as sns\n",
    "sns.set( style=\"ticks\" )"
   ]
  },
  {
   "cell_type": "code",
   "execution_count": 3,
   "metadata": {},
   "outputs": [],
   "source": [
    "df_train = pd.read_csv(\"data/3_training_set_day2.csv\", index_col=0)\n",
    "df_test = pd.read_csv(\"data/4_testing_set_day2.csv\", index_col=0)\n",
    "\n",
    "train_x = df_train.drop(columns=['PRED_1', 'PRED_2'])\n",
    "train_y = df_train[['PRED_1', 'PRED_2']]\n",
    "\n",
    "test_x = df_test.drop(columns=['PRED_1', 'PRED_2'])\n",
    "test_y = df_test[['PRED_1', 'PRED_2']]"
   ]
  },
  {
   "cell_type": "code",
   "execution_count": 4,
   "metadata": {},
   "outputs": [
    {
     "name": "stdout",
     "output_type": "stream",
     "text": [
      "Step 0: cmd:-1 Profit 155.96\n",
      "Step 1: cmd:0 Profit 155.96\n",
      "Step 2: cmd:1 Profit 1.8600000000000136\n",
      "Step 3: cmd:1 Profit -151.73\n",
      "Step 4: cmd:-1 Profit 3.0800000000000125\n",
      "Step 5: cmd:-1 Profit 158.54000000000002\n",
      "Step 6: cmd:0 Profit 158.54000000000002\n",
      "Step 7: cmd:0 Profit 158.54000000000002\n",
      "Step 8: cmd:1 Profit 3.940000000000026\n",
      "Step 9: cmd:-1 Profit 157.55000000000004\n",
      "Step 10: cmd:1 Profit 3.9600000000000364\n",
      "Step 11: cmd:-1 Profit 158.01000000000005\n",
      "Step 12: cmd:0 Profit 158.01000000000005\n",
      "Step 13: cmd:0 Profit 158.01000000000005\n",
      "Step 14: cmd:1 Profit 6.190000000000055\n",
      "Step 15: cmd:-1 Profit 158.70000000000005\n",
      "Step 16: cmd:0 Profit 158.70000000000005\n",
      "Step 17: cmd:0 Profit 158.70000000000005\n",
      "Step 18: cmd:0 Profit 158.70000000000005\n",
      "Baseline profit:  -1.450000000000017\n",
      "Total profit:  5.750000000000057\n"
     ]
    }
   ],
   "source": [
    "status_now = 0      # {0 : None}, {1 : Have 1}, {-1 : Short 1}\n",
    "command = []\n",
    "\n",
    "# ------- Start predict and command ------- #\n",
    "command = [-1, 0, 1, 1, -1, -1, 0, 0, 1, -1, 1, -1, 0, 0, 1, -1, 0, 0, 0]\n",
    "\n",
    "    #print(f\"Step {i}, y_pred {y_pred[i]}, cmd {command[i]}, status {status_now}\")\n",
    "\n",
    "status_market = 0\n",
    "profit = 0\n",
    "for i in range( len( command ) ):\n",
    "    if command[i] == 0:\n",
    "        pass\n",
    "    elif command[i] == 1:\n",
    "        if status_market == 0:\n",
    "            profit -= test_x['A'][i+1]\n",
    "            status_market = 1\n",
    "        elif status_market == 1:\n",
    "            print(\"error\")\n",
    "        elif status_market == -1:\n",
    "            profit -= test_x['A'][i+1]\n",
    "            status_market = 0\n",
    "    elif command[i] == -1:\n",
    "        if status_market == 0:\n",
    "            profit += test_x['A'][i+1]\n",
    "            status_market = -1\n",
    "        elif status_market == 1:\n",
    "            profit += test_x['A'][i+1]\n",
    "            status_market = 0\n",
    "        elif status_market == -1:\n",
    "            print(\"error\")\n",
    "    \n",
    "    print(f\"Step {i}: cmd:{command[i]} Profit {profit}\")\n",
    "\n",
    "if status_market == 1:\n",
    "    profit += test_x['A'][17]\n",
    "elif status_market == -1:\n",
    "    profit -= test_x['A'][17]\n",
    "\n",
    "print(\"Baseline profit: \", test_x['A'][len(test_x)-1] - test_x['A'][0])\n",
    "print(\"Total profit: \", profit)\n"
   ]
  }
 ],
 "metadata": {
  "interpreter": {
   "hash": "8a321bb0fc4d66f9af6532794760ab083afb692787107ffc87e331bdf958f3c9"
  },
  "kernelspec": {
   "display_name": "Python 3.9.5 ('py39')",
   "language": "python",
   "name": "python3"
  },
  "language_info": {
   "codemirror_mode": {
    "name": "ipython",
    "version": 3
   },
   "file_extension": ".py",
   "mimetype": "text/x-python",
   "name": "python",
   "nbconvert_exporter": "python",
   "pygments_lexer": "ipython3",
   "version": "3.9.5"
  },
  "orig_nbformat": 4
 },
 "nbformat": 4,
 "nbformat_minor": 2
}
