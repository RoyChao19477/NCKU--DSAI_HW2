{
 "cells": [
  {
   "cell_type": "markdown",
   "metadata": {},
   "source": [
    "> RoyChao"
   ]
  },
  {
   "cell_type": "markdown",
   "metadata": {},
   "source": [
    "## 1-0 Environments"
   ]
  },
  {
   "cell_type": "code",
   "execution_count": 1,
   "metadata": {},
   "outputs": [
    {
     "name": "stdout",
     "output_type": "stream",
     "text": [
      "Python 3.9.5\n",
      "pip 21.1.3 from /Users/blueshiner/anaconda3/envs/py39/lib/python3.9/site-packages/pip (python 3.9)\n",
      "The matplotlib version is 3.4.2\n",
      "The numpy version is 1.21.1.\n",
      "The pandas version is 1.3.0.\n",
      "The scikit-learn version is 0.24.2.\n",
      "The scipy version is 1.7.0.\n",
      "The seaborn version is 0.11.2.\n"
     ]
    }
   ],
   "source": [
    "# Python:\n",
    "!python3 --version\n",
    "\n",
    "# Pip:\n",
    "!pip --version\n",
    "\n",
    "# matplotlob, numpy, pandas, sklearn, scipy, seaborn\n",
    "import matplotlib\n",
    "print('The matplotlib version is {}'. format(matplotlib. __version__)) \n",
    "import numpy as np\n",
    "print('The numpy version is {}.'.format(np.__version__))\n",
    "import pandas as pd\n",
    "print('The pandas version is {}.'.format(pd.__version__))\n",
    "import sklearn\n",
    "print('The scikit-learn version is {}.'.format(sklearn.__version__))\n",
    "import scipy\n",
    "print('The scipy version is {}.'.format(scipy.__version__))\n",
    "import seaborn as sns\n",
    "print('The seaborn version is {}.'.format(sns.__version__))"
   ]
  },
  {
   "cell_type": "markdown",
   "metadata": {},
   "source": [
    "## 1-1 Environments Parameters"
   ]
  },
  {
   "cell_type": "code",
   "execution_count": 2,
   "metadata": {},
   "outputs": [],
   "source": [
    "sns.set( style=\"ticks\" )"
   ]
  },
  {
   "cell_type": "markdown",
   "metadata": {},
   "source": [
    "## 1-2 Read CSV & Drop"
   ]
  },
  {
   "cell_type": "code",
   "execution_count": 3,
   "metadata": {},
   "outputs": [
    {
     "name": "stdout",
     "output_type": "stream",
     "text": [
      "        A       B       C       D\n",
      "0  186.73  188.71  186.00  186.30\n",
      "1  185.57  186.33  184.94  185.54\n",
      "2  184.81  185.03  183.10  184.66\n",
      "3  184.39  184.48  182.31  182.54\n",
      "4  182.20  182.27  180.27  181.59\n"
     ]
    }
   ],
   "source": [
    "df_raw = pd.read_csv(\"data/training.csv\", names=['A', 'B', 'C', 'D'])\n",
    "print(df_raw.head())"
   ]
  },
  {
   "cell_type": "markdown",
   "metadata": {},
   "source": [
    "## 1-3 Make training dataframe"
   ]
  },
  {
   "cell_type": "code",
   "execution_count": 4,
   "metadata": {},
   "outputs": [
    {
     "name": "stdout",
     "output_type": "stream",
     "text": [
      "        A       B       C       D  PRED_1  PRED_2\n",
      "0  186.73  188.71  186.00  186.30  185.57  184.81\n",
      "1  185.57  186.33  184.94  185.54  184.81  184.39\n",
      "2  184.81  185.03  183.10  184.66  184.39  182.20\n",
      "3  184.39  184.48  182.31  182.54  182.20  183.23\n",
      "4  182.20  182.27  180.27  181.59  183.23  180.73\n",
      "                 A            B            C            D       PRED_1  \\\n",
      "count  1486.000000  1486.000000  1486.000000  1486.000000  1486.000000   \n",
      "mean    172.990848   174.151299   171.909563   173.037799   172.968022   \n",
      "std      21.867759    21.948781    21.841679    21.895034    21.871111   \n",
      "min     118.460000   119.660000   116.900000   117.850000   118.460000   \n",
      "25%     154.237500   155.392500   153.230000   154.225000   154.200000   \n",
      "50%     173.955000   175.000000   173.020000   174.095000   173.925000   \n",
      "75%     192.007500   193.272500   190.937500   192.130000   192.007500   \n",
      "max     215.380000   215.900000   214.300000   215.800000   215.380000   \n",
      "\n",
      "            PRED_2  \n",
      "count  1486.000000  \n",
      "mean    172.946541  \n",
      "std      21.874400  \n",
      "min     118.460000  \n",
      "25%     154.182500  \n",
      "50%     173.885000  \n",
      "75%     192.007500  \n",
      "max     215.380000  \n"
     ]
    }
   ],
   "source": [
    "df_dataset = df_raw.copy()\n",
    "df_dataset['PRED_1'] = -1.0\n",
    "df_dataset['PRED_2'] = -1.0\n",
    "\n",
    "for idx in range( len(df_dataset) - 2 ):\n",
    "    df_dataset['PRED_1'][idx] = df_dataset['A'][idx + 1]\n",
    "    df_dataset['PRED_2'][idx] = df_dataset['A'][idx + 2]\n",
    "\n",
    "df_dataset.drop(df_dataset.tail(2).index, inplace=True)     # drop last one\n",
    "print( df_dataset.head() )\n",
    "print( df_dataset.describe() )"
   ]
  },
  {
   "cell_type": "code",
   "execution_count": 5,
   "metadata": {},
   "outputs": [],
   "source": [
    "df_dataset.to_csv(\"data/3_training_set_day2.csv\")"
   ]
  },
  {
   "cell_type": "code",
   "execution_count": null,
   "metadata": {},
   "outputs": [],
   "source": []
  }
 ],
 "metadata": {
  "interpreter": {
   "hash": "8a321bb0fc4d66f9af6532794760ab083afb692787107ffc87e331bdf958f3c9"
  },
  "kernelspec": {
   "display_name": "Python 3.9.5 ('py39')",
   "language": "python",
   "name": "python3"
  },
  "language_info": {
   "codemirror_mode": {
    "name": "ipython",
    "version": 3
   },
   "file_extension": ".py",
   "mimetype": "text/x-python",
   "name": "python",
   "nbconvert_exporter": "python",
   "pygments_lexer": "ipython3",
   "version": "3.9.5"
  },
  "orig_nbformat": 4
 },
 "nbformat": 4,
 "nbformat_minor": 2
}
