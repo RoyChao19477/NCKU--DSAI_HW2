{
 "cells": [
  {
   "cell_type": "markdown",
   "metadata": {},
   "source": [
    "> RoyChao"
   ]
  },
  {
   "cell_type": "markdown",
   "metadata": {},
   "source": [
    "## 1-0 Environments"
   ]
  },
  {
   "cell_type": "code",
   "execution_count": 2,
   "metadata": {},
   "outputs": [
    {
     "name": "stdout",
     "output_type": "stream",
     "text": [
      "Python 3.9.5\n",
      "pip 21.1.3 from /Users/blueshiner/anaconda3/envs/py39/lib/python3.9/site-packages/pip (python 3.9)\n",
      "The matplotlib version is 3.4.2\n",
      "The numpy version is 1.21.1.\n",
      "The pandas version is 1.3.0.\n",
      "The scikit-learn version is 0.24.2.\n",
      "The scipy version is 1.7.0.\n",
      "The seaborn version is 0.11.2.\n"
     ]
    }
   ],
   "source": [
    "# Python:\n",
    "!python3 --version\n",
    "\n",
    "# Pip:\n",
    "!pip --version\n",
    "\n",
    "# matplotlob, numpy, pandas, sklearn, scipy, seaborn\n",
    "import matplotlib\n",
    "print('The matplotlib version is {}'. format(matplotlib. __version__)) \n",
    "import numpy as np\n",
    "print('The numpy version is {}.'.format(np.__version__))\n",
    "import pandas as pd\n",
    "print('The pandas version is {}.'.format(pd.__version__))\n",
    "import sklearn\n",
    "print('The scikit-learn version is {}.'.format(sklearn.__version__))\n",
    "import scipy\n",
    "print('The scipy version is {}.'.format(scipy.__version__))\n",
    "import seaborn as sns\n",
    "print('The seaborn version is {}.'.format(sns.__version__))"
   ]
  },
  {
   "cell_type": "markdown",
   "metadata": {},
   "source": [
    "## 1-1 Environments Parameters"
   ]
  },
  {
   "cell_type": "code",
   "execution_count": 4,
   "metadata": {},
   "outputs": [],
   "source": [
    "sns.set( style=\"ticks\" )"
   ]
  },
  {
   "cell_type": "markdown",
   "metadata": {},
   "source": [
    "## 1-2 Read CSV & Drop"
   ]
  },
  {
   "cell_type": "code",
   "execution_count": 14,
   "metadata": {},
   "outputs": [
    {
     "name": "stdout",
     "output_type": "stream",
     "text": [
      "         日期  淨尖峰供電能力(MW)  尖峰負載(MW)  備轉容量(MW)  備轉容量率(%)  工業用電(百萬度)  民生用電(百萬度)  \\\n",
      "0  20210101        28487     25720      2767     10.76    311.468    212.061   \n",
      "1  20210102        28421     25485      2936     11.52    304.952    207.625   \n",
      "2  20210103        28513     25476      3037     11.92    299.771    204.098   \n",
      "3  20210104        32766     29734      3032     10.20    342.273    233.036   \n",
      "4  20210105        33117     30050      3067     10.21    353.795    240.880   \n",
      "\n",
      "   核一#1(萬瓩)  核一#2(萬瓩)  核二#1(萬瓩)  ...   大觀二    明潭   碧海   立霧   龍澗   卓蘭   水里  \\\n",
      "0         0         0      98.4  ...  50.4  65.6  5.8  1.5  2.4  2.5  0.0   \n",
      "1         0         0      98.4  ...  44.1  71.5  5.5  1.4  3.0  3.0  0.0   \n",
      "2         0         0      98.4  ...  49.3  65.0  5.1  1.4  3.6  0.0  0.0   \n",
      "3         0         0      98.3  ...  46.2  64.6  5.0  1.4  3.0  2.5  0.0   \n",
      "4         0         0      98.4  ...  31.6  48.4  5.8  1.4  3.0  2.5  0.0   \n",
      "\n",
      "   其他小水力  風力發電  太陽能發電  \n",
      "0   14.9  30.6    0.0  \n",
      "1   18.5  37.0    0.1  \n",
      "2   12.3  48.0    0.0  \n",
      "3   14.9  40.3    0.0  \n",
      "4   21.8  63.0    0.0  \n",
      "\n",
      "[5 rows x 71 columns]\n"
     ]
    }
   ],
   "source": [
    "df_raw = pd.read_csv(\"data/0_raw_elec.csv\")\n",
    "print(df_raw.head())"
   ]
  },
  {
   "cell_type": "code",
   "execution_count": 15,
   "metadata": {},
   "outputs": [
    {
     "name": "stdout",
     "output_type": "stream",
     "text": [
      "       date  supply  demand  industry    civil\n",
      "0  20210101   28487   25720   311.468  212.061\n",
      "1  20210102   28421   25485   304.952  207.625\n",
      "2  20210103   28513   25476   299.771  204.098\n",
      "3  20210104   32766   29734   342.273  233.036\n",
      "4  20210105   33117   30050   353.795  240.880\n",
      "<class 'pandas.core.frame.DataFrame'>\n",
      "RangeIndex: 396 entries, 0 to 395\n",
      "Data columns (total 5 columns):\n",
      " #   Column    Non-Null Count  Dtype  \n",
      "---  ------    --------------  -----  \n",
      " 0   date      396 non-null    int64  \n",
      " 1   supply    396 non-null    int64  \n",
      " 2   demand    396 non-null    int64  \n",
      " 3   industry  396 non-null    float64\n",
      " 4   civil     396 non-null    float64\n",
      "dtypes: float64(2), int64(3)\n",
      "memory usage: 15.6 KB\n",
      "None\n",
      "               date        supply        demand    industry       civil\n",
      "count  3.960000e+02    396.000000    396.000000  396.000000  396.000000\n",
      "mean   2.021141e+07  35328.328283  31683.997475  393.398694  278.788374\n",
      "std    2.562561e+03   4274.769757   3930.825729   92.540636   49.469503\n",
      "min    2.021010e+07  24905.000000  21913.000000  271.573000  192.828000\n",
      "25%    2.021041e+07  32744.000000  29619.000000  353.009250  243.942750\n",
      "50%    2.021072e+07  34322.500000  30755.500000  373.530500  263.498000\n",
      "75%    2.021102e+07  39112.250000  35184.750000  394.238500  309.356250\n",
      "max    2.022013e+07  42878.000000  38844.000000  736.267000  407.732000\n"
     ]
    }
   ],
   "source": [
    "df_raw = df_raw[['日期', '淨尖峰供電能力(MW)', '尖峰負載(MW)', '工業用電(百萬度)', '民生用電(百萬度)']]\n",
    "df_drop = df_raw.rename(columns=\n",
    "{\n",
    "    '日期' : 'date',\n",
    "    '淨尖峰供電能力(MW)' : 'supply',\n",
    "    '尖峰負載(MW)' : 'demand',\n",
    "    '工業用電(百萬度)' : 'industry', \n",
    "    '民生用電(百萬度)' : 'civil'\n",
    "})\n",
    "print(df_drop.head())\n",
    "print(df_drop.info())\n",
    "print(df_drop.describe())"
   ]
  },
  {
   "cell_type": "markdown",
   "metadata": {},
   "source": [
    "## 1-3 Make training dataframe"
   ]
  },
  {
   "cell_type": "code",
   "execution_count": 24,
   "metadata": {},
   "outputs": [
    {
     "name": "stdout",
     "output_type": "stream",
     "text": [
      "       date  supply  demand  industry    civil    OR\n",
      "0  20210101   28487   25720   311.468  212.061  2936\n",
      "1  20210102   28421   25485   304.952  207.625  3037\n",
      "2  20210103   28513   25476   299.771  204.098  3032\n",
      "3  20210104   32766   29734   342.273  233.036  3067\n",
      "4  20210105   33117   30050   353.795  240.880  3102\n",
      "               date        supply        demand    industry       civil  \\\n",
      "count  3.950000e+02    395.000000    395.000000  395.000000  395.000000   \n",
      "mean   2.021139e+07  35351.356962  31705.675949  393.638881  279.005995   \n",
      "std    2.527799e+03   4255.525415   3912.036889   92.534327   49.342083   \n",
      "min    2.021010e+07  24905.000000  21913.000000  271.573000  199.353000   \n",
      "25%    2.021041e+07  32759.000000  29639.000000  353.129000  243.970500   \n",
      "50%    2.021072e+07  34324.000000  30760.000000  373.638000  263.573000   \n",
      "75%    2.021102e+07  39124.500000  35208.500000  394.251000  309.385500   \n",
      "max    2.022013e+07  42878.000000  38844.000000  736.267000  407.732000   \n",
      "\n",
      "                OR  \n",
      "count   395.000000  \n",
      "mean   3646.551899  \n",
      "std     921.017138  \n",
      "min    1437.000000  \n",
      "25%    3046.000000  \n",
      "50%    3338.000000  \n",
      "75%    4053.000000  \n",
      "max    6911.000000  \n"
     ]
    },
    {
     "name": "stderr",
     "output_type": "stream",
     "text": [
      "/var/folders/hh/d63tg1dn1tq7z2b_82py9csw0000gn/T/ipykernel_15418/1293618602.py:5: SettingWithCopyWarning: \n",
      "A value is trying to be set on a copy of a slice from a DataFrame\n",
      "\n",
      "See the caveats in the documentation: https://pandas.pydata.org/pandas-docs/stable/user_guide/indexing.html#returning-a-view-versus-a-copy\n",
      "  df_dataset['OR'][idx] = df_dataset['supply'][idx + 1] - df_dataset['demand'][idx + 1]\n"
     ]
    }
   ],
   "source": [
    "df_dataset = df_drop.copy()\n",
    "df_dataset['OR'] = -1\n",
    "\n",
    "for idx in range( len(df_dataset) - 1 ):\n",
    "    df_dataset['OR'][idx] = df_dataset['supply'][idx + 1] - df_dataset['demand'][idx + 1]\n",
    "\n",
    "df_dataset.drop(df_dataset.tail(1).index, inplace=True)     # drop last one\n",
    "print( df_dataset.head() )\n",
    "print( df_dataset.describe() )"
   ]
  },
  {
   "cell_type": "code",
   "execution_count": 25,
   "metadata": {},
   "outputs": [],
   "source": [
    "df_dataset.to_csv(\"data/1_dataset_elec.csv\")"
   ]
  },
  {
   "cell_type": "code",
   "execution_count": null,
   "metadata": {},
   "outputs": [],
   "source": []
  }
 ],
 "metadata": {
  "interpreter": {
   "hash": "8a321bb0fc4d66f9af6532794760ab083afb692787107ffc87e331bdf958f3c9"
  },
  "kernelspec": {
   "display_name": "Python 3.9.5 ('py39')",
   "language": "python",
   "name": "python3"
  },
  "language_info": {
   "codemirror_mode": {
    "name": "ipython",
    "version": 3
   },
   "file_extension": ".py",
   "mimetype": "text/x-python",
   "name": "python",
   "nbconvert_exporter": "python",
   "pygments_lexer": "ipython3",
   "version": "3.9.5"
  },
  "orig_nbformat": 4
 },
 "nbformat": 4,
 "nbformat_minor": 2
}
