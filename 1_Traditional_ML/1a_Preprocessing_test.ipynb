{
 "cells": [
  {
   "cell_type": "markdown",
   "metadata": {},
   "source": [
    "> RoyChao"
   ]
  },
  {
   "cell_type": "markdown",
   "metadata": {},
   "source": [
    "## 1-0 Environments"
   ]
  },
  {
   "cell_type": "code",
   "execution_count": 2,
   "metadata": {},
   "outputs": [
    {
     "name": "stdout",
     "output_type": "stream",
     "text": [
      "Python 3.9.5\n",
      "pip 21.1.3 from /Users/blueshiner/anaconda3/envs/py39/lib/python3.9/site-packages/pip (python 3.9)\n",
      "The matplotlib version is 3.4.2\n",
      "The numpy version is 1.21.1.\n",
      "The pandas version is 1.3.0.\n",
      "The scikit-learn version is 0.24.2.\n",
      "The scipy version is 1.7.0.\n",
      "The seaborn version is 0.11.2.\n"
     ]
    }
   ],
   "source": [
    "# Python:\n",
    "!python3 --version\n",
    "\n",
    "# Pip:\n",
    "!pip --version\n",
    "\n",
    "# matplotlob, numpy, pandas, sklearn, scipy, seaborn\n",
    "import matplotlib\n",
    "print('The matplotlib version is {}'. format(matplotlib. __version__)) \n",
    "import numpy as np\n",
    "print('The numpy version is {}.'.format(np.__version__))\n",
    "import pandas as pd\n",
    "print('The pandas version is {}.'.format(pd.__version__))\n",
    "import sklearn\n",
    "print('The scikit-learn version is {}.'.format(sklearn.__version__))\n",
    "import scipy\n",
    "print('The scipy version is {}.'.format(scipy.__version__))\n",
    "import seaborn as sns\n",
    "print('The seaborn version is {}.'.format(sns.__version__))"
   ]
  },
  {
   "cell_type": "markdown",
   "metadata": {},
   "source": [
    "## 1-1 Environments Parameters"
   ]
  },
  {
   "cell_type": "code",
   "execution_count": 3,
   "metadata": {},
   "outputs": [],
   "source": [
    "sns.set( style=\"ticks\" )"
   ]
  },
  {
   "cell_type": "markdown",
   "metadata": {},
   "source": [
    "## 1-2 Read CSV & Drop"
   ]
  },
  {
   "cell_type": "code",
   "execution_count": 4,
   "metadata": {},
   "outputs": [
    {
     "name": "stdout",
     "output_type": "stream",
     "text": [
      "        A       B       C       D\n",
      "0  154.40  155.02  152.91  154.76\n",
      "1  155.96  156.80  155.07  156.46\n",
      "2  156.45  156.74  154.68  155.35\n",
      "3  154.10  156.22  154.09  154.10\n",
      "4  153.59  154.45  153.26  153.57\n"
     ]
    }
   ],
   "source": [
    "df_raw = pd.read_csv(\"data/testing.csv\", names=['A', 'B', 'C', 'D'])\n",
    "print(df_raw.head())"
   ]
  },
  {
   "cell_type": "markdown",
   "metadata": {},
   "source": [
    "## 1-3 Make training dataframe"
   ]
  },
  {
   "cell_type": "code",
   "execution_count": 5,
   "metadata": {},
   "outputs": [
    {
     "name": "stdout",
     "output_type": "stream",
     "text": [
      "        A       B       C       D    PRED\n",
      "0  154.40  155.02  152.91  154.76  155.96\n",
      "1  155.96  156.80  155.07  156.46  156.45\n",
      "2  156.45  156.74  154.68  155.35  154.10\n",
      "3  154.10  156.22  154.09  154.10  153.59\n",
      "4  153.59  154.45  153.26  153.57  154.81\n",
      "                A           B           C           D        PRED\n",
      "count   19.000000   19.000000   19.000000   19.000000   19.000000\n",
      "mean   154.276842  154.921053  153.331053  153.953684  154.264737\n",
      "std      1.414025    1.407369    1.080575    1.370066    1.413897\n",
      "min    151.820000  153.000000  151.490000  151.500000  151.820000\n",
      "25%    153.395000  153.875000  152.695000  153.040000  153.395000\n",
      "50%    154.050000  154.450000  153.210000  153.910000  154.050000\n",
      "75%    155.135000  156.055000  153.990000  154.785000  155.135000\n",
      "max    156.740000  157.850000  155.160000  156.740000  156.740000\n"
     ]
    }
   ],
   "source": [
    "df_dataset = df_raw.copy()\n",
    "df_dataset['PRED'] = -1.0\n",
    "\n",
    "for idx in range( len(df_dataset) - 1 ):\n",
    "    df_dataset['PRED'][idx] = df_dataset['A'][idx + 1]\n",
    "\n",
    "df_dataset.drop(df_dataset.tail(1).index, inplace=True)     # drop last one\n",
    "print( df_dataset.head() )\n",
    "print( df_dataset.describe() )"
   ]
  },
  {
   "cell_type": "code",
   "execution_count": 6,
   "metadata": {},
   "outputs": [],
   "source": [
    "df_dataset.to_csv(\"data/2_testing_set.csv\")"
   ]
  },
  {
   "cell_type": "code",
   "execution_count": null,
   "metadata": {},
   "outputs": [],
   "source": []
  }
 ],
 "metadata": {
  "interpreter": {
   "hash": "8a321bb0fc4d66f9af6532794760ab083afb692787107ffc87e331bdf958f3c9"
  },
  "kernelspec": {
   "display_name": "Python 3.9.5 ('py39')",
   "language": "python",
   "name": "python3"
  },
  "language_info": {
   "codemirror_mode": {
    "name": "ipython",
    "version": 3
   },
   "file_extension": ".py",
   "mimetype": "text/x-python",
   "name": "python",
   "nbconvert_exporter": "python",
   "pygments_lexer": "ipython3",
   "version": "3.9.5"
  },
  "orig_nbformat": 4
 },
 "nbformat": 4,
 "nbformat_minor": 2
}
